{
  "cells": [
    {
      "cell_type": "markdown",
      "metadata": {
        "id": "8Z0PV239mEgA"
      },
      "source": [
        "Mounting Drive to access data"
      ]
    },
    {
      "cell_type": "code",
      "execution_count": 1,
      "metadata": {
        "id": "pQ7CXVCzl7FP"
      },
      "outputs": [],
      "source": [
        "import sys\n",
        "IN_COLAB = 'google.colab' in sys.modules\n",
        "\n",
        "if IN_COLAB:\n",
        "  from google.colab import drive\n",
        "  drive.mount('/content/drive' , force_remount = True)\n",
        "  intra_annotated_file = \"/content/drive/MyDrive/B_Tech_ECE/Own Final Year Project/combined_annotated.csv\"\n",
        "  ae_features_file = \"/content/drive/MyDrive/B_Tech_ECE/Own Final Year Project/AE_features.csv\"\n",
        "else:\n",
        "  from imported_files.paths_n_vars import intra_annotated_file, ae_features_file"
      ]
    },
    {
      "cell_type": "markdown",
      "metadata": {
        "id": "2BKsrL-Yf6up"
      },
      "source": [
        "#### Import TensorFlow and other libraries\n"
      ]
    },
    {
      "cell_type": "code",
      "execution_count": 2,
      "metadata": {
        "colab": {
          "base_uri": "https://localhost:8080/"
        },
        "id": "gFudQgG9f6uq",
        "outputId": "ff0ad0e4-135b-4a1b-ad3f-6b8eb1417b0c"
      },
      "outputs": [
        {
          "ename": "SyntaxError",
          "evalue": "invalid syntax (2419925868.py, line 12)",
          "output_type": "error",
          "traceback": [
            "\u001b[1;36m  Cell \u001b[1;32mIn[2], line 12\u001b[1;36m\u001b[0m\n\u001b[1;33m    from tensorflow.keras.models import Mode l, load_model\u001b[0m\n\u001b[1;37m                                             ^\u001b[0m\n\u001b[1;31mSyntaxError\u001b[0m\u001b[1;31m:\u001b[0m invalid syntax\n"
          ]
        }
      ],
      "source": [
        "import matplotlib.pyplot as plt\n",
        "import numpy as np\n",
        "import pandas as pd\n",
        "\n",
        "%pip install tensorflow --quiet\n",
        "import tensorflow as tf\n",
        "print(\"Num GPUs Available: \", len(tf.config.list_physical_devices('GPU')))\n",
        "\n",
        "from sklearn.model_selection import train_test_split\n",
        "\n",
        "from tensorflow.keras import layers, losses\n",
        "from tensorflow.keras.models import Model, load_model\n",
        "from tensorflow.keras.callbacks import EarlyStopping\n",
        "from tensorflow.keras.callbacks import TensorBoard"
      ]
    },
    {
      "cell_type": "markdown",
      "metadata": {
        "id": "lq09yYdAf6ur"
      },
      "source": [
        "User defined functions"
      ]
    },
    {
      "cell_type": "code",
      "execution_count": null,
      "metadata": {
        "id": "niwgZIx_f6ur"
      },
      "outputs": [],
      "source": [
        "def plot_signal(x : list|range ,y : list , x_label = \"\" , y_label = \"\" , title = \"\"):\n",
        "    plt.grid(True)\n",
        "    plt.plot(x,y)\n",
        "    plt.xlabel(x_label)\n",
        "    plt.ylabel(y_label)\n",
        "    plt.title(title)\n",
        "    plt.show()\n",
        "    plt.close()\n",
        "\n",
        "def MyMinMaxScaler(dataframe : pd.DataFrame):\n",
        "    '''\n",
        "    Scales each PPG segment individually\n",
        "    Function assumes the PPG segments are present column wise in the given DataFrame\n",
        "    '''\n",
        "    return (dataframe - dataframe.min())/(dataframe.max() - dataframe.min())\n",
        "\n",
        "def MyZScoreScaler(dataframe : pd.DataFrame):\n",
        "    '''\n",
        "    Scales each PPG segment individually\n",
        "    Function assumes the PPG segments are present column wise in the given DataFrame\n",
        "    '''\n",
        "    return (dataframe - dataframe.mean())/(dataframe.std())"
      ]
    },
    {
      "cell_type": "markdown",
      "metadata": {
        "id": "QWCYWieymY1-"
      },
      "source": [
        "#### Load the trained encoder and decoders"
      ]
    },
    {
      "cell_type": "code",
      "execution_count": null,
      "metadata": {
        "id": "SPnkjMtImZV8"
      },
      "outputs": [],
      "source": [
        "encoder = load_model('encoder_model.keras')\n",
        "decoder = load_model('decoder_model.keras')\n",
        "\n",
        "# Show the model architecture\n",
        "encoder.summary()\n",
        "decoder.summary()"
      ]
    },
    {
      "cell_type": "markdown",
      "metadata": {
        "id": "iswS_q1UnAYw"
      },
      "source": [
        "##### Load the raw segments, normalize them and extract the features"
      ]
    },
    {
      "cell_type": "code",
      "execution_count": null,
      "metadata": {
        "id": "YyZ_shzknIMo"
      },
      "outputs": [],
      "source": [
        "raw_segments = (pd.read_csv(intra_annotated_file ).iloc[1 : , ])\n",
        "scaled_data = MyMinMaxScaler(raw_segments).values.T # mind the Transpose operation\n",
        "\n",
        "AE_features = encoder(scaled_data).numpy()\n",
        "print(AE_features.shape)\n",
        "\n",
        "\n",
        "segment = (AE_features)[9]\n",
        "print(segment.shape)\n",
        "reconstructed_seg = autoencoder.decoder(tf.reshape(segment , [-1,300])).numpy().reshape(1250,-1)\n",
        "t = range(len(reconstructed_seg) )\n",
        "print(len(reconstructed_seg))\n",
        "print(reconstructed_seg)\n",
        "plt.figure()\n",
        "plt.plot(range(len(scaled_data[:,9]) ), scaled_data[:,9], 'b-', label='Original Data')\n",
        "plt.plot(range(len(segment) ), segment, 'c-', label='Encoded Data')\n",
        "plt.plot(range(len(reconstructed_seg) ), reconstructed_seg, 'r-', linewidth = 2, label='Reconstructed Data')\n",
        "plt.xlabel('Time (s)')\n",
        "plt.ylabel('Amplitude')\n",
        "plt.legend()\n",
        "plt.grid(True)\n",
        "plt.show()\n",
        "\n",
        "# save the features\n",
        "AE_features.to_csv(ae_features_file ,index=False)"
      ]
    }
  ],
  "metadata": {
    "colab": {
      "provenance": []
    },
    "kernelspec": {
      "display_name": "Python 3",
      "name": "python3"
    },
    "language_info": {
      "codemirror_mode": {
        "name": "ipython",
        "version": 3
      },
      "file_extension": ".py",
      "mimetype": "text/x-python",
      "name": "python",
      "nbconvert_exporter": "python",
      "pygments_lexer": "ipython3",
      "version": "3.11.8"
    }
  },
  "nbformat": 4,
  "nbformat_minor": 0
}
